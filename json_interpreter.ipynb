{
 "cells": [
  {
   "cell_type": "code",
   "execution_count": 21,
   "metadata": {},
   "outputs": [],
   "source": [
    "import json\n",
    "import pandas as pd\n",
    "\n",
    "f = open('./data/salaryData.json')\n",
    "json_data = json.load(f)\n",
    "\n",
    "df = pd.DataFrame(json_data)\n",
    "df['dmaid'] = pd.to_numeric(df['dmaid'])\n",
    "df.dropna(inplace=True)\n",
    "df['dmaid'] = df['dmaid'].astype(int)\n",
    "df = df[df['dmaid'].isin([807,819,501,803,506,602,635,751])]\n",
    "\n",
    "df.to_csv('./data/USOnly_dataset.csv', index=False)\n"
   ]
  },
  {
   "cell_type": "code",
   "execution_count": 28,
   "metadata": {},
   "outputs": [
    {
     "name": "stdout",
     "output_type": "stream",
     "text": [
      "43977\n"
     ]
    }
   ],
   "source": [
    "import json\n",
    "import pandas as pd\n",
    "\n",
    "file_name = './data/USOnly_dataset.csv'\n",
    "\n",
    "\n",
    "df = pd.read_csv(file_name)\n",
    "\n",
    "print(len(df))\n",
    "\n",
    "df = df[df['basesalary'] > 0]\n",
    "df = df[df['totalyearlycompensation'] > 0]\n",
    "\n",
    "df['basesalary'] = df['basesalary'].apply(lambda x: x*1000 if x < 1000 else x)\n",
    "df['totalyearlycompensation'] = df['totalyearlycompensation'].apply(lambda x: x*1000 if x < 1000 else x)\n",
    "df['stockgrantvalue'] = df['stockgrantvalue'].apply(lambda x: x*1000 if x < 1000 else x)\n",
    "df['bonus'] = df['bonus'].apply(lambda x: x*1000 if x < 1000 else x)\n",
    "\n",
    "df.to_csv('./data/USOnly_dataset_clean.csv')\n",
    "\n"
   ]
  }
 ],
 "metadata": {
  "interpreter": {
   "hash": "153f2cd2606206e7b40f13e5d32bb37a1380236b9a33b6c375b7ac88f10acdd8"
  },
  "kernelspec": {
   "display_name": "Python 3.10.2 ('github_env': venv)",
   "language": "python",
   "name": "python3"
  },
  "language_info": {
   "codemirror_mode": {
    "name": "ipython",
    "version": 3
   },
   "file_extension": ".py",
   "mimetype": "text/x-python",
   "name": "python",
   "nbconvert_exporter": "python",
   "pygments_lexer": "ipython3",
   "version": "3.10.2"
  },
  "orig_nbformat": 4
 },
 "nbformat": 4,
 "nbformat_minor": 2
}
